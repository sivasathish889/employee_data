{
 "cells": [
  {
   "cell_type": "markdown",
   "id": "2406110a",
   "metadata": {},
   "source": [
    "## 1. Import neccessory packages\n",
    "##### pip install pandas matplotlib seaborn"
   ]
  },
  {
   "cell_type": "code",
   "execution_count": null,
   "id": "02cf5d47",
   "metadata": {},
   "outputs": [],
   "source": [
    "import pandas as pd\n",
    "import matplotlib.pyplot as plt\n",
    "import seaborn as sns"
   ]
  },
  {
   "cell_type": "markdown",
   "id": "127ffc02",
   "metadata": {},
   "source": [
    "## 2. Import and Read the dataset "
   ]
  },
  {
   "cell_type": "code",
   "execution_count": null,
   "id": "fbf1eb7c",
   "metadata": {},
   "outputs": [],
   "source": [
    "# Imort the dataset from a URL\n",
    "dataset = 'https://github.com/sivasathish889/employee_data/raw/main/employee_data.csv'\n",
    "\n",
    "# Load the dataset\n",
    "df = pd.read_csv(dataset)\n",
    "\n",
    "df.shape\n"
   ]
  },
  {
   "cell_type": "markdown",
   "id": "e99c4eb8",
   "metadata": {},
   "source": [
    "## 3. Get the Information using info() "
   ]
  },
  {
   "cell_type": "code",
   "execution_count": null,
   "id": "515e7e49",
   "metadata": {},
   "outputs": [],
   "source": [
    "print(df.info())"
   ]
  },
  {
   "cell_type": "markdown",
   "id": "1fb0baf3",
   "metadata": {},
   "source": [
    "## 4. Check the missing values"
   ]
  },
  {
   "cell_type": "code",
   "execution_count": null,
   "id": "f6b1c395",
   "metadata": {},
   "outputs": [],
   "source": [
    "# Check missing values\n",
    "print(\"Missing values:\\n\", df.isnull().sum())\n"
   ]
  },
  {
   "cell_type": "markdown",
   "id": "b1a6cc47",
   "metadata": {},
   "source": [
    "## 5. Check the duplicate values"
   ]
  },
  {
   "cell_type": "code",
   "execution_count": null,
   "id": "86575a51",
   "metadata": {},
   "outputs": [],
   "source": [
    "df.duplicated().sum() \n"
   ]
  },
  {
   "cell_type": "markdown",
   "id": "10d9bba6",
   "metadata": {},
   "source": [
    "## 6. Group by department and describe the YearsAtCompany column"
   ]
  },
  {
   "cell_type": "code",
   "execution_count": null,
   "id": "0ad08be4",
   "metadata": {},
   "outputs": [],
   "source": [
    "ss = df.groupby('Department')['YearsAtCompany'].describe()  \n",
    "ss"
   ]
  },
  {
   "cell_type": "markdown",
   "id": "c77d7a84",
   "metadata": {},
   "source": [
    "## 7. Average performance by department"
   ]
  },
  {
   "cell_type": "code",
   "execution_count": null,
   "id": "9944971d",
   "metadata": {},
   "outputs": [],
   "source": [
    "\n",
    "dept_perf = df.groupby('Department')['PerformanceScore'].mean().sort_values(ascending=False)\n",
    "print(\"Average performance by department:\\n\", dept_perf)\n",
    "\n",
    "df[df['Department']=='PerformanceScore']\n"
   ]
  },
  {
   "cell_type": "markdown",
   "id": "c662c38f",
   "metadata": {},
   "source": [
    "## 8. Plot performance by department"
   ]
  },
  {
   "cell_type": "code",
   "execution_count": null,
   "id": "59415b60",
   "metadata": {},
   "outputs": [],
   "source": [
    "\n",
    "plt.figure(figsize=(10,6))\n",
    "sns.barplot(x=dept_perf.values, y=dept_perf.index, palette='viridis', hue=dept_perf.index)\n",
    "plt.title('Average Performance by Department')\n",
    "plt.xlabel('Performance Score')\n",
    "plt.ylabel('Department')\n",
    "plt.show()"
   ]
  },
  {
   "cell_type": "markdown",
   "id": "995f5866",
   "metadata": {},
   "source": [
    "## 9. Productivity vs Experience\n"
   ]
  },
  {
   "cell_type": "code",
   "execution_count": null,
   "id": "eabb595f",
   "metadata": {},
   "outputs": [],
   "source": [
    "plt.figure(figsize=(10,6))\n",
    "sns.scatterplot(data=df, x='YearsAtCompany', y='ProjectsCompleted', hue='PerformanceScore', palette='coolwarm')\n",
    "plt.title('Experience vs Projects Completed')\n",
    "plt.xlabel('Years at Company')\n",
    "plt.ylabel('Projects Completed')\n",
    "plt.show()"
   ]
  },
  {
   "cell_type": "markdown",
   "id": "210adf9c",
   "metadata": {},
   "source": [
    "## 10. Monthly hours vs Performance\n"
   ]
  },
  {
   "cell_type": "code",
   "execution_count": null,
   "id": "42ba5b7d",
   "metadata": {},
   "outputs": [],
   "source": [
    "plt.figure(figsize=(10,6))\n",
    "sns.boxplot(x='PerformanceScore', y='MonthlyHoursWorked', data=df, palette='Set2',hue='PerformanceScore')\n",
    "plt.title('Monthly Hours Worked by Performance Score')\n",
    "plt.xlabel('Performance Score')\n",
    "plt.ylabel('Monthly Hours Worked')\n",
    "plt.show()\n"
   ]
  },
  {
   "cell_type": "markdown",
   "id": "518981ca",
   "metadata": {},
   "source": [
    "## 11. Correlation matrix\n"
   ]
  },
  {
   "cell_type": "code",
   "execution_count": null,
   "id": "ec05799a",
   "metadata": {},
   "outputs": [],
   "source": [
    "plt.figure(figsize=(8,6))\n",
    "sns.heatmap(df[['Age', 'YearsAtCompany', 'PerformanceScore', 'MonthlyHoursWorked', 'ProjectsCompleted']].corr(), annot=True, cmap='Blues')\n",
    "plt.title('Correlation Matrix')\n",
    "plt.show()"
   ]
  },
  {
   "cell_type": "markdown",
   "id": "63404f26",
   "metadata": {},
   "source": [
    "## 12. High performers analysis and Save the summary"
   ]
  },
  {
   "cell_type": "code",
   "execution_count": null,
   "id": "bfab38a3",
   "metadata": {},
   "outputs": [],
   "source": [
    "\n",
    "high_perf = df[df['PerformanceScore'] >= 4]\n",
    "print(\"High performers breakdown by department:\\n\", high_perf['Department'].value_counts())\n",
    "\n",
    "# Save summary\n",
    "summary = df.groupby('Department').agg({\n",
    "    'PerformanceScore': 'mean',\n",
    "    'ProjectsCompleted': 'sum',\n",
    "    'MonthlyHoursWorked': 'mean'\n",
    "}).reset_index()\n",
    "\n",
    "summary.to_csv('department_summary.csv', index=False)\n"
   ]
  }
 ],
 "metadata": {
  "kernelspec": {
   "display_name": "Python 3",
   "language": "python",
   "name": "python3"
  },
  "language_info": {
   "codemirror_mode": {
    "name": "ipython",
    "version": 3
   },
   "file_extension": ".py",
   "mimetype": "text/x-python",
   "name": "python",
   "nbconvert_exporter": "python",
   "pygments_lexer": "ipython3",
   "version": "3.12.10"
  }
 },
 "nbformat": 4,
 "nbformat_minor": 5
}
